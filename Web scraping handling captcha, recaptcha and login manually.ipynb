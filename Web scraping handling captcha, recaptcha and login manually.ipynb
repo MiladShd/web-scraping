{
 "cells": [
  {
   "cell_type": "markdown",
   "metadata": {},
   "source": [
    "Web Scraping when a login needed or a captcha code is showing up is challenging. \n",
    "To manually handle these it is possible to open the web page and interact with the webpages via Chromdriver."
   ]
  },
  {
   "cell_type": "markdown",
   "metadata": {},
   "source": [
    "To webscrape first download chrome web driver from : http://chromedriver.chromium.org/downloads"
   ]
  },
  {
   "cell_type": "markdown",
   "metadata": {},
   "source": [
    "Send the .exe file into the current directory folder. Or send the local address if ChromeDriver when needed."
   ]
  },
  {
   "cell_type": "code",
   "execution_count": 13,
   "metadata": {
    "collapsed": true
   },
   "outputs": [],
   "source": [
    "import os\n",
    "from selenium import webdriver\n",
    "from selenium.webdriver.chrome.options import Options\n",
    "chrome_options = Options()\n",
    "from selenium.webdriver.common.by import By\n",
    "from selenium import webdriver\n",
    "from selenium.webdriver.common.keys import Keys\n",
    "from bs4 import BeautifulSoup\n",
    "import re\n",
    "import pandas as pd\n",
    "\n",
    "#chrome_options.add_argument(\"--headless\") If you like headless\n",
    "chrome_driver= os.getcwd() +\"\\\\chromedriver.exe\""
   ]
  },
  {
   "cell_type": "code",
   "execution_count": 6,
   "metadata": {},
   "outputs": [
    {
     "name": "stderr",
     "output_type": "stream",
     "text": [
      "C:\\Users\\Milad\\Anaconda3\\lib\\site-packages\\ipykernel_launcher.py:1: DeprecationWarning: use options instead of chrome_options\n",
      "  \"\"\"Entry point for launching an IPython kernel.\n"
     ]
    }
   ],
   "source": [
    "driver = webdriver.Chrome(chrome_options=chrome_options, executable_path=chrome_driver)"
   ]
  },
  {
   "cell_type": "code",
   "execution_count": 9,
   "metadata": {
    "collapsed": true
   },
   "outputs": [],
   "source": [
    "url = \"https://google.com\""
   ]
  },
  {
   "cell_type": "code",
   "execution_count": 10,
   "metadata": {},
   "outputs": [],
   "source": [
    "driver.get(url) "
   ]
  },
  {
   "cell_type": "code",
   "execution_count": 32,
   "metadata": {},
   "outputs": [
    {
     "data": {
      "text/html": [
       "<div>\n",
       "<style>\n",
       "    .dataframe thead tr:only-child th {\n",
       "        text-align: right;\n",
       "    }\n",
       "\n",
       "    .dataframe thead th {\n",
       "        text-align: left;\n",
       "    }\n",
       "\n",
       "    .dataframe tbody tr th {\n",
       "        vertical-align: top;\n",
       "    }\n",
       "</style>\n",
       "<table border=\"1\" class=\"dataframe\">\n",
       "  <thead>\n",
       "    <tr style=\"text-align: right;\">\n",
       "      <th></th>\n",
       "      <th>Ranking</th>\n",
       "      <th>Team</th>\n",
       "      <th>W</th>\n",
       "      <th>L</th>\n",
       "      <th>Pct</th>\n",
       "      <th>GB</th>\n",
       "      <th>Conf</th>\n",
       "      <th>Div</th>\n",
       "      <th>Home</th>\n",
       "      <th>Away</th>\n",
       "      <th>L10</th>\n",
       "      <th>Strk</th>\n",
       "    </tr>\n",
       "  </thead>\n",
       "  <tbody>\n",
       "    <tr>\n",
       "      <th>0</th>\n",
       "      <td>1</td>\n",
       "      <td>Bucks</td>\n",
       "      <td>37</td>\n",
       "      <td>13</td>\n",
       "      <td>0.740</td>\n",
       "      <td>-</td>\n",
       "      <td>25-7</td>\n",
       "      <td>9-1</td>\n",
       "      <td>22-4</td>\n",
       "      <td>15-9</td>\n",
       "      <td>8-2</td>\n",
       "      <td>W2</td>\n",
       "    </tr>\n",
       "    <tr>\n",
       "      <th>1</th>\n",
       "      <td>2</td>\n",
       "      <td>Raptors</td>\n",
       "      <td>37</td>\n",
       "      <td>16</td>\n",
       "      <td>0.698</td>\n",
       "      <td>1.5</td>\n",
       "      <td>22-10</td>\n",
       "      <td>5-4</td>\n",
       "      <td>21-5</td>\n",
       "      <td>16-11</td>\n",
       "      <td>6-4</td>\n",
       "      <td>L1</td>\n",
       "    </tr>\n",
       "    <tr>\n",
       "      <th>2</th>\n",
       "      <td>3</td>\n",
       "      <td>76ers</td>\n",
       "      <td>34</td>\n",
       "      <td>18</td>\n",
       "      <td>0.654</td>\n",
       "      <td>4.0</td>\n",
       "      <td>20-13</td>\n",
       "      <td>5-6</td>\n",
       "      <td>21-5</td>\n",
       "      <td>13-13</td>\n",
       "      <td>7-3</td>\n",
       "      <td>W2</td>\n",
       "    </tr>\n",
       "    <tr>\n",
       "      <th>3</th>\n",
       "      <td>4</td>\n",
       "      <td>Pacers</td>\n",
       "      <td>32</td>\n",
       "      <td>19</td>\n",
       "      <td>0.627</td>\n",
       "      <td>5.5</td>\n",
       "      <td>24-10</td>\n",
       "      <td>7-2</td>\n",
       "      <td>18-7</td>\n",
       "      <td>14-12</td>\n",
       "      <td>5-5</td>\n",
       "      <td>L4</td>\n",
       "    </tr>\n",
       "    <tr>\n",
       "      <th>4</th>\n",
       "      <td>5</td>\n",
       "      <td>Celtics</td>\n",
       "      <td>32</td>\n",
       "      <td>19</td>\n",
       "      <td>0.627</td>\n",
       "      <td>5.5</td>\n",
       "      <td>23-10</td>\n",
       "      <td>8-3</td>\n",
       "      <td>21-6</td>\n",
       "      <td>11-13</td>\n",
       "      <td>7-3</td>\n",
       "      <td>W2</td>\n",
       "    </tr>\n",
       "  </tbody>\n",
       "</table>\n",
       "</div>"
      ],
      "text/plain": [
       "   Ranking     Team   W   L    Pct   GB   Conf  Div  Home   Away  L10 Strk\n",
       "0        1    Bucks  37  13  0.740    -   25-7  9-1  22-4   15-9  8-2   W2\n",
       "1        2  Raptors  37  16  0.698  1.5  22-10  5-4  21-5  16-11  6-4   L1\n",
       "2        3    76ers  34  18  0.654  4.0  20-13  5-6  21-5  13-13  7-3   W2\n",
       "3        4   Pacers  32  19  0.627  5.5  24-10  7-2  18-7  14-12  5-5   L4\n",
       "4        5  Celtics  32  19  0.627  5.5  23-10  8-3  21-6  11-13  7-3   W2"
      ]
     },
     "execution_count": 32,
     "metadata": {},
     "output_type": "execute_result"
    }
   ],
   "source": [
    "soup=BeautifulSoup(driver.page_source, 'lxml') #The beautiful soup read all the page in driver\n",
    "#Finding the table\n",
    "nba_table = soup.find_all('table')[0]\n",
    "df = pd.read_html(str(table),header=0)[0]\n",
    "\n",
    "df.columns = ['Unnamed: 0','Ranking','Team','W', 'L','Pct','GB','Conf','Div','Home','Away','L10','Strk','Unnamed: 12']\n",
    "df.drop(['Unnamed: 0','Unnamed: 12'],axis=1)"
   ]
  }
 ],
 "metadata": {
  "kernelspec": {
   "display_name": "Python 3",
   "language": "python",
   "name": "python3"
  },
  "language_info": {
   "codemirror_mode": {
    "name": "ipython",
    "version": 3
   },
   "file_extension": ".py",
   "mimetype": "text/x-python",
   "name": "python",
   "nbconvert_exporter": "python",
   "pygments_lexer": "ipython3",
   "version": "3.6.2"
  }
 },
 "nbformat": 4,
 "nbformat_minor": 2
}
