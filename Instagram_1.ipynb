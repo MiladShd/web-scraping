{
 "cells": [
  {
   "cell_type": "code",
   "execution_count": 1,
   "metadata": {
    "collapsed": true
   },
   "outputs": [],
   "source": [
    "import os\n",
    "from selenium import webdriver\n",
    "from selenium.webdriver.chrome.options import Options\n",
    "chrome_options = Options()\n",
    "from selenium.webdriver.common.by import By\n",
    "from selenium import webdriver\n",
    "from selenium.webdriver.common.keys import Keys\n",
    "from bs4 import BeautifulSoup\n",
    "import re\n",
    "import pandas as pd\n",
    "import time"
   ]
  },
  {
   "cell_type": "code",
   "execution_count": 2,
   "metadata": {
    "collapsed": true
   },
   "outputs": [],
   "source": [
    "chrome_driver= os.getcwd() +\"\\\\chromedriver.exe\"\n",
    "driver = webdriver.Chrome(chrome_options=chrome_options, executable_path=chrome_driver)\n",
    "#define your tag\n",
    "tag = \"Monet\"\n",
    "url=\"https://www.instagram.com/explore/tags/\"+ tag\n",
    "driver.get(url)"
   ]
  },
  {
   "cell_type": "code",
   "execution_count": null,
   "metadata": {
    "collapsed": true
   },
   "outputs": [],
   "source": [
    "#How to get the url of each result in explorer"
   ]
  },
  {
   "cell_type": "code",
   "execution_count": 3,
   "metadata": {},
   "outputs": [
    {
     "name": "stdout",
     "output_type": "stream",
     "text": [
      "instagram.com/p/Bt_G-BLIxRq/\n",
      "instagram.com/p/Bt7nNi8hj4T/\n",
      "instagram.com/p/BtwFoY_hk5c/\n",
      "instagram.com/p/Bt2wcbBhA2x/\n",
      "instagram.com/p/BtyJmzBDd2H/\n",
      "instagram.com/p/Bt8QAplh6ZP/\n",
      "instagram.com/p/BtwWJTSCtXv/\n",
      "instagram.com/p/Bt9Atd9BzwQ/\n",
      "instagram.com/p/BuEYOUFBnxu/\n",
      "instagram.com/p/BuFp0R4HGgY/\n",
      "instagram.com/p/BuFpcyVAObn/\n",
      "instagram.com/p/BuFo8_TFa_b/\n",
      "instagram.com/p/BuFoyStlNkv/\n",
      "instagram.com/p/BuFowfAlD4i/\n",
      "instagram.com/p/BuFoFlzldqG/\n",
      "instagram.com/p/BuFnf7eH-Zu/\n",
      "instagram.com/p/BuFnakeHmOK/\n",
      "instagram.com/p/BuFnILZjG5U/\n",
      "instagram.com/p/BuFm_uElFFx/\n",
      "instagram.com/p/BuFmy7bH0_y/\n",
      "instagram.com/p/BuFlP81AAww/\n",
      "instagram.com/p/BuFk5S2A-ut/\n",
      "instagram.com/p/BuFk4bbBVH6/\n",
      "instagram.com/p/BuFkiCQH5e9/\n",
      "instagram.com/p/BuFhdtdDyCN/\n",
      "instagram.com/p/BuFilk9h3dk/\n",
      "instagram.com/p/BuFiJP9FKkv/\n",
      "instagram.com/p/BuFhkSGF-VP/\n",
      "instagram.com/p/BuFhb3Wjsyu/\n",
      "instagram.com/p/BuFgdUOHRy3/\n",
      "instagram.com/p/BuFgR7Xhw5k/\n",
      "instagram.com/p/BuFePz8lifi/\n",
      "instagram.com/p/BuFeHE-Bcqu/\n"
     ]
    }
   ],
   "source": [
    "soup=BeautifulSoup(driver.page_source, 'lxml')\n",
    "for a in soup.find_all('a', href=True):\n",
    "    if(a['href'][0:3]==\"/p/\"):\n",
    "        print(\"instagram.com\"+a['href'])"
   ]
  },
  {
   "cell_type": "code",
   "execution_count": 4,
   "metadata": {
    "collapsed": true
   },
   "outputs": [],
   "source": [
    "#How to scroll down automatically"
   ]
  },
  {
   "cell_type": "code",
   "execution_count": 5,
   "metadata": {},
   "outputs": [
    {
     
    }
   ],
   "source": [
    "SCROLL_PAUSE_TIME = 3\n",
    "\n",
    "# Get scroll height\n",
    "last_height = driver.execute_script(\"return document.body.scrollHeight\")\n",
    "\n",
    "while True:\n",
    "    # Scroll down to bottom\n",
    "    driver.execute_script(\"window.scrollTo(0, document.body.scrollHeight);\")\n",
    "\n",
    "    # Wait to load page\n",
    "    time.sleep(SCROLL_PAUSE_TIME)\n",
    "\n",
    "    # Calculate new scroll height and compare with last scroll height\n",
    "    new_height = driver.execute_script(\"return document.body.scrollHeight\")\n",
    "    if new_height == last_height:\n",
    "        break\n",
    "    last_height = new_height"
   ]
  },
  {
   "cell_type": "code",
   "execution_count": null,
   "metadata": {
    "collapsed": true
   },
   "outputs": [],
   "source": []
  }
 ],
 "metadata": {
  "kernelspec": {
   "display_name": "Python 3",
   "language": "python",
   "name": "python3"
  },
  "language_info": {
   "codemirror_mode": {
    "name": "ipython",
    "version": 3
   },
   "file_extension": ".py",
   "mimetype": "text/x-python",
   "name": "python",
   "nbconvert_exporter": "python",
   "pygments_lexer": "ipython3",
   "version": "3.6.3"
  }
 },
 "nbformat": 4,
 "nbformat_minor": 2
}
